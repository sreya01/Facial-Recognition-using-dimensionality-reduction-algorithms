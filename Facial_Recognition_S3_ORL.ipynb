{
  "nbformat": 4,
  "nbformat_minor": 0,
  "metadata": {
    "colab": {
      "provenance": []
    },
    "kernelspec": {
      "name": "python3",
      "display_name": "Python 3"
    },
    "language_info": {
      "name": "python"
    }
  },
  "cells": [
    {
      "cell_type": "markdown",
      "source": [
        "PCA using Olivetti (Sklearn)"
      ],
      "metadata": {
        "id": "9m91Oe-WGqy2"
      }
    },
    {
      "cell_type": "code",
      "execution_count": null,
      "metadata": {
        "id": "qkZhay65ljI2"
      },
      "outputs": [],
      "source": [
        "# Import matplotlib library\n",
        "import matplotlib.pyplot as plt\n",
        "\n",
        "from sklearn.model_selection import train_test_split\n",
        "from sklearn.model_selection import GridSearchCV\n",
        "from sklearn.datasets import fetch_lfw_people\n",
        "from sklearn.metrics import classification_report\n",
        "from sklearn.metrics import confusion_matrix\n",
        "from sklearn.decomposition import PCA\n",
        "from sklearn.svm import SVC\n",
        "import time\n",
        "import numpy as np"
      ]
    },
    {
      "cell_type": "code",
      "source": [
        "from sklearn.datasets import fetch_olivetti_faces\n",
        "\n",
        "# this command will download the LFW_people's dataset to hard disk.\n",
        "lfw_people = fetch_olivetti_faces()\n",
        " \n",
        "# introspect the images arrays to find the shapes (for plotting)\n",
        "n_samples, h, w = lfw_people.images.shape\n",
        " \n",
        "# Instead of providing 2D data, X has data already in the form  of a vector that\n",
        "# is required in this approach.\n",
        "X = lfw_people.data\n",
        "n_features = X.shape[1]\n",
        " \n",
        "# the label to predict is the id of the person\n",
        "y = lfw_people.target\n",
        "\n",
        " \n"
      ],
      "metadata": {
        "id": "z7F57hm7lkER",
        "colab": {
          "base_uri": "https://localhost:8080/"
        },
        "outputId": "fd77ae05-028d-4f7a-bc08-fef5600f09e9"
      },
      "execution_count": null,
      "outputs": [
        {
          "output_type": "stream",
          "name": "stdout",
          "text": [
            "downloading Olivetti faces from https://ndownloader.figshare.com/files/5976027 to /root/scikit_learn_data\n"
          ]
        }
      ]
    },
    {
      "cell_type": "code",
      "source": [
        "X_train, X_test, y_train, y_test = train_test_split(\n",
        "    X, y, test_size = 0.25, random_state = 42)\n",
        "print(\"size of training Data is % d and Testing Data is % d\" %(\n",
        "        y_train.shape[0], y_test.shape[0]))"
      ],
      "metadata": {
        "colab": {
          "base_uri": "https://localhost:8080/"
        },
        "id": "aOeBvuPTmcQx",
        "outputId": "3b2c26fc-2c91-47d8-ead0-c29855954aa5"
      },
      "execution_count": null,
      "outputs": [
        {
          "output_type": "stream",
          "name": "stdout",
          "text": [
            "size of training Data is  300 and Testing Data is  100\n"
          ]
        }
      ]
    },
    {
      "cell_type": "code",
      "source": [
        "n_components = 150\n",
        "\n",
        "t0 = time.time()\n",
        "pca = PCA(n_components = n_components,whiten = True).fit(X_train)\n",
        " \n",
        "eigenfaces = pca.components_.reshape((n_components, h, w))\n",
        " \n",
        "X_train_pca = pca.transform(X_train)\n",
        "X_test_pca = pca.transform(X_test)\n",
        "print(\"done in % 0.3fs\" % (time.time() - t0))"
      ],
      "metadata": {
        "id": "mQOjLGdw-smm",
        "colab": {
          "base_uri": "https://localhost:8080/"
        },
        "outputId": "881f3bf5-323f-4597-8852-8d3b7f58c796"
      },
      "execution_count": null,
      "outputs": [
        {
          "output_type": "stream",
          "name": "stdout",
          "text": [
            "done in  0.431s\n"
          ]
        }
      ]
    },
    {
      "cell_type": "code",
      "source": [
        "print(\"Sample Data point after applying PCA\\n\", X_train_pca[0])\n",
        "print(\"-----------------------------------------------------\")\n",
        "print(\"Dimensions of training set = % s and Test Set = % s\"%( X_train.shape, X_test.shape))"
      ],
      "metadata": {
        "colab": {
          "base_uri": "https://localhost:8080/"
        },
        "id": "ejvUNeSenWWB",
        "outputId": "95285f3f-b34b-4d29-b730-c7e2ab406f62"
      },
      "execution_count": null,
      "outputs": [
        {
          "output_type": "stream",
          "name": "stdout",
          "text": [
            "Sample Data point after applying PCA\n",
            " [-6.1811554e-01  1.0630195e+00  3.1684369e-01  2.2064978e-01\n",
            " -9.9376613e-01  8.9177823e-01 -8.2789475e-01 -6.5192527e-01\n",
            " -6.8825018e-01 -1.0344398e-01  2.0083746e-02  9.6160740e-01\n",
            "  9.8682661e-04 -1.9289309e+00  9.4358718e-01 -1.2143946e+00\n",
            "  5.5862308e-01 -4.2292315e-01 -1.5368174e+00 -1.0801630e+00\n",
            " -2.8341243e-01 -2.2951812e-01 -1.2562701e+00 -5.6461722e-01\n",
            "  1.0349580e+00 -1.3543636e+00  9.1815937e-01  3.1847030e-01\n",
            "  1.3232473e+00 -7.2048110e-01  1.3002092e+00 -1.8173767e+00\n",
            " -1.2921642e+00 -1.2713994e+00 -1.3630527e-01  1.0455195e+00\n",
            " -2.4110581e-01  4.2490548e-01 -7.5799042e-01  4.2938665e-01\n",
            "  1.7469458e-01 -9.7508377e-01 -1.1866050e+00  6.3068718e-01\n",
            "  4.9410972e-01  2.5728539e-01  6.3709676e-01 -1.8806926e+00\n",
            " -2.1672519e-01 -1.7180933e+00 -1.1125642e+00  1.0265244e+00\n",
            " -1.4158516e+00  7.5793666e-01  1.2013366e+00  6.1488098e-01\n",
            " -2.0598148e-01 -2.3721318e-01  1.5910673e+00 -5.8445132e-01\n",
            " -1.6475677e+00  1.2587591e+00  7.4554485e-01  9.8616982e-01\n",
            "  1.4616679e+00 -9.8025924e-01 -6.8709660e-01 -7.2961128e-01\n",
            " -1.3880068e-01 -1.1872981e+00  1.7330360e+00 -7.6791161e-01\n",
            " -5.1551318e-01 -2.1792896e+00  1.6879387e-01  8.6533010e-01\n",
            "  4.9085416e-02  8.2768106e-01  7.1931636e-01 -8.2487631e-01\n",
            " -9.3848926e-01  1.8287146e-01  2.1885538e+00  4.3556726e-01\n",
            " -8.7436813e-01 -7.2046721e-01 -4.6298414e-01  7.2652325e-02\n",
            " -7.9292756e-01  1.4592612e-01 -5.8068061e-01  5.4103553e-01\n",
            " -6.6745125e-02 -8.4752065e-01 -2.6891389e+00  6.5436393e-01\n",
            "  7.1762133e-01  1.5722127e+00 -1.0377101e-01 -3.0213398e-01\n",
            " -1.6937672e-01  5.2130461e-01 -9.8897916e-01 -1.0485392e-01\n",
            " -2.9612246e-01  6.6765147e-01 -1.8353131e-01 -1.2070868e+00\n",
            " -2.7092788e-01  1.1912074e+00 -4.9585894e-01 -4.5876431e-01\n",
            "  1.6191643e+00 -1.0701815e+00 -5.8202201e-01  7.8401136e-01\n",
            " -3.6358553e-01  1.5849952e+00 -1.5970576e-01 -1.6474082e+00\n",
            " -1.2883416e+00 -7.6601458e-01 -1.2642851e-01 -6.1774449e-03\n",
            "  1.6854112e+00  6.8846464e-02 -4.1976061e-02 -3.4866643e-01\n",
            " -6.1777651e-01 -6.5630066e-01  5.2241516e-01 -1.2074460e+00\n",
            "  2.8546065e-01  5.4817927e-01  1.5638562e+00  5.6011945e-01\n",
            "  1.3741227e+00 -9.1239303e-02  6.5723908e-01 -1.9309232e+00\n",
            " -3.1837800e-01  4.6663362e-01 -6.3083492e-02  1.4086618e+00\n",
            " -9.6697199e-01 -1.4703751e-01  1.6521863e+00  3.9405429e-01\n",
            " -1.4695754e+00 -3.3229014e-01]\n",
            "-----------------------------------------------------\n",
            "Dimensions of training set = (300, 4096) and Test Set = (100, 4096)\n"
          ]
        }
      ]
    },
    {
      "cell_type": "code",
      "source": [
        "print(\"Fitting the classifier to the training set\")\n",
        "\n",
        "param_grid = {'C': [1e3, 5e3, 1e4, 5e4, 1e5],'gamma': [0.0001, 0.0005, 0.001, 0.005, 0.01, 0.1], }\n",
        "clf = GridSearchCV(SVC(kernel ='rbf', class_weight ='balanced'), param_grid)\n",
        "clf = clf.fit(X_train_pca, y_train)\n",
        "print(\"Best estimator found by grid search:\")\n",
        "print(clf.best_estimator_)\n",
        " \n",
        "print(\"Predicting people's names on the test set\")\n",
        "t0 = time.time()\n",
        "y_pred = clf.predict(X_test_pca)\n",
        "print(\"done in % 0.3fs\" % (time.time() - t0))\n",
        "# print classification results\n",
        "print(classification_report(y_test, y_pred))\n",
        "# print confusion matrix"
      ],
      "metadata": {
        "colab": {
          "base_uri": "https://localhost:8080/"
        },
        "id": "InnHlr27naxp",
        "outputId": "8730e8c0-0c19-4253-e8b6-08b61a3290e7"
      },
      "execution_count": null,
      "outputs": [
        {
          "output_type": "stream",
          "name": "stdout",
          "text": [
            "Fitting the classifier to the training set\n"
          ]
        },
        {
          "output_type": "stream",
          "name": "stderr",
          "text": [
            "/usr/local/lib/python3.7/dist-packages/sklearn/model_selection/_split.py:680: UserWarning: The least populated class in y has only 3 members, which is less than n_splits=5.\n",
            "  UserWarning,\n"
          ]
        },
        {
          "output_type": "stream",
          "name": "stdout",
          "text": [
            "Best estimator found by grid search:\n",
            "SVC(C=1000.0, class_weight='balanced', gamma=0.001)\n",
            "Predicting people's names on the test set\n",
            "done in  0.012s\n",
            "              precision    recall  f1-score   support\n",
            "\n",
            "           0       1.00      0.50      0.67         4\n",
            "           1       1.00      1.00      1.00         2\n",
            "           2       0.50      0.50      0.50         2\n",
            "           3       1.00      1.00      1.00         4\n",
            "           4       0.75      1.00      0.86         3\n",
            "           5       1.00      1.00      1.00         3\n",
            "           6       1.00      1.00      1.00         1\n",
            "           7       1.00      0.86      0.92         7\n",
            "           8       1.00      1.00      1.00         2\n",
            "           9       1.00      1.00      1.00         3\n",
            "          10       1.00      1.00      1.00         3\n",
            "          11       1.00      1.00      1.00         4\n",
            "          12       1.00      1.00      1.00         2\n",
            "          13       1.00      1.00      1.00         1\n",
            "          14       1.00      1.00      1.00         3\n",
            "          15       0.67      1.00      0.80         2\n",
            "          17       1.00      1.00      1.00         3\n",
            "          18       1.00      1.00      1.00         2\n",
            "          19       1.00      1.00      1.00         1\n",
            "          20       1.00      1.00      1.00         2\n",
            "          21       1.00      1.00      1.00         1\n",
            "          22       1.00      1.00      1.00         4\n",
            "          23       1.00      1.00      1.00         4\n",
            "          24       1.00      1.00      1.00         2\n",
            "          25       1.00      1.00      1.00         2\n",
            "          26       1.00      0.75      0.86         4\n",
            "          27       1.00      1.00      1.00         3\n",
            "          28       1.00      1.00      1.00         2\n",
            "          29       1.00      1.00      1.00         1\n",
            "          30       1.00      1.00      1.00         1\n",
            "          31       1.00      1.00      1.00         1\n",
            "          32       1.00      1.00      1.00         3\n",
            "          33       1.00      1.00      1.00         2\n",
            "          34       1.00      1.00      1.00         1\n",
            "          35       1.00      1.00      1.00         1\n",
            "          36       1.00      1.00      1.00         2\n",
            "          37       1.00      1.00      1.00         3\n",
            "          38       1.00      1.00      1.00         5\n",
            "          39       0.67      1.00      0.80         4\n",
            "\n",
            "    accuracy                           0.95       100\n",
            "   macro avg       0.96      0.96      0.96       100\n",
            "weighted avg       0.96      0.95      0.95       100\n",
            "\n"
          ]
        }
      ]
    },
    {
      "cell_type": "code",
      "source": [
        "from sklearn.model_selection import cross_val_score\n",
        "cv = cross_val_score(pca, X_train, y_train, cv=10) \n",
        "print(cv.mean()/5000)"
      ],
      "metadata": {
        "colab": {
          "base_uri": "https://localhost:8080/"
        },
        "id": "9drrE-6isNG0",
        "outputId": "8207c984-cd15-4870-9cf1-447a98118028"
      },
      "execution_count": null,
      "outputs": [
        {
          "output_type": "stream",
          "name": "stdout",
          "text": [
            "0.836335791015625\n"
          ]
        }
      ]
    },
    {
      "cell_type": "code",
      "source": [
        "pca.score(X_test, y_test)"
      ],
      "metadata": {
        "colab": {
          "base_uri": "https://localhost:8080/"
        },
        "id": "tiq-cse6tAgs",
        "outputId": "fe2feba9-7fe3-43dc-a2d0-142535d2fe29"
      },
      "execution_count": null,
      "outputs": [
        {
          "output_type": "execute_result",
          "data": {
            "text/plain": [
              "4304.467"
            ]
          },
          "metadata": {},
          "execution_count": 10
        }
      ]
    },
    {
      "cell_type": "markdown",
      "source": [
        "KPCA using sklearn"
      ],
      "metadata": {
        "id": "qmhK4c19HMCr"
      }
    },
    {
      "cell_type": "code",
      "source": [
        "from sklearn.decomposition import KernelPCA\n",
        "n_components = 150\n",
        "t0 = time.time()\n",
        "kpca = KernelPCA(n_components = n_components).fit(X_train)\n",
        " \n",
        "#eigenfaces = pca.components_.reshape((n_components, h, w))\n",
        " \n",
        "X_train_pca = kpca.transform(X_train)\n",
        "X_test_pca = kpca.transform(X_test)\n",
        "print(\"done in % 0.3fs\" % (time.time() - t0))"
      ],
      "metadata": {
        "id": "8yro7rK7HLkM",
        "colab": {
          "base_uri": "https://localhost:8080/"
        },
        "outputId": "60cf35b9-ddab-49db-b0af-93a2f47ca90b"
      },
      "execution_count": null,
      "outputs": [
        {
          "output_type": "stream",
          "name": "stdout",
          "text": [
            "done in  0.142s\n"
          ]
        }
      ]
    },
    {
      "cell_type": "code",
      "source": [
        "print(\"Sample Data point after applying PCA\\n\", X_train_pca[0])\n",
        "print(\"-----------------------------------------------------\")\n",
        "print(\"Dimensions of training set = % s and Test Set = % s\"%(\n",
        "        X_train.shape, X_test.shape))"
      ],
      "metadata": {
        "id": "A3QqLXVJJ7xg",
        "colab": {
          "base_uri": "https://localhost:8080/"
        },
        "outputId": "81f94a6f-4b9b-4d6c-875f-7266f9011d03"
      },
      "execution_count": null,
      "outputs": [
        {
          "output_type": "stream",
          "name": "stdout",
          "text": [
            "Sample Data point after applying PCA\n",
            " [-2.6352129e+00  3.3890424e+00  8.0212569e-01  4.3721646e-01\n",
            " -1.7056330e+00  1.3636025e+00 -1.1178060e+00 -8.4976685e-01\n",
            " -8.4997994e-01 -1.2231505e-01  2.2066392e-02  1.0194203e+00\n",
            "  8.1996340e-04 -1.8851430e+00  9.0681440e-01 -1.0988235e+00\n",
            "  4.9031019e-01 -3.4120208e-01 -1.2101213e+00 -8.2905948e-01\n",
            " -2.0989722e-01 -1.6556382e-01 -8.6321509e-01 -3.8449988e-01\n",
            "  6.9700193e-01 -8.8418829e-01  5.9209818e-01  2.0149793e-01\n",
            "  8.1835759e-01 -4.2404586e-01  7.4491715e-01 -1.0209610e+00\n",
            " -7.0889342e-01 -6.6649836e-01 -6.9871016e-02  5.3332871e-01\n",
            " -1.2099931e-01  2.1002671e-01 -3.6578706e-01  2.0461288e-01\n",
            "  8.2105190e-02 -4.5015496e-01 -5.3585982e-01  2.7805984e-01\n",
            "  2.1422662e-01  1.1113755e-01  2.7278545e-01 -7.9104471e-01\n",
            " -9.0406477e-02 -7.0317805e-01 -4.5087945e-01  4.0744719e-01\n",
            " -5.5057919e-01  2.9007375e-01  4.5099914e-01  2.2924396e-01\n",
            " -7.6495849e-02 -8.6446196e-02  5.7794791e-01 -2.0988300e-01\n",
            " -5.9511942e-01  4.4757304e-01  2.6262122e-01  3.4256929e-01\n",
            "  5.0240487e-01 -3.3571795e-01 -2.3012587e-01 -2.4214101e-01\n",
            " -4.5717400e-02 -3.8301948e-01  5.5585808e-01 -2.4361721e-01\n",
            " -1.6180012e-01 -6.8636292e-01  5.3129103e-02  2.6502579e-01\n",
            "  1.3904500e-02  2.4648541e-01  2.1620131e-01 -2.4269283e-01\n",
            " -2.7686191e-01  5.3759217e-02  6.2552828e-01  1.1939956e-01\n",
            " -2.4885024e-01 -2.0428301e-01 -1.3081396e-01  2.1829227e-02\n",
            " -2.1706729e-01  4.3020613e-02 -1.5637954e-01  1.4694616e-01\n",
            " -1.6620236e-02 -2.2229806e-01 -6.9954085e-01  1.6907263e-01\n",
            "  1.8234791e-01  4.0297765e-01 -2.5066877e-02 -7.2064660e-02\n",
            " -4.3904502e-02  1.3369168e-01 -2.3179954e-01 -2.8997077e-02\n",
            " -7.8067198e-02  1.3333827e-01 -5.1018756e-02 -2.7998084e-01\n",
            " -6.0956303e-02  2.8452700e-01 -1.0331267e-01 -9.5677920e-02\n",
            "  3.5614812e-01 -1.9709238e-01 -1.4939305e-01  2.0803830e-01\n",
            " -6.4980038e-02  3.6031497e-01 -2.2354051e-02 -3.3954796e-01\n",
            " -2.8064209e-01 -1.6081883e-01 -9.6272066e-02  3.8420577e-02\n",
            "  2.9433444e-01 -1.1957353e-02  3.7559927e-02  1.0393828e-01\n",
            " -1.5978476e-01 -1.1462631e-01  9.1328220e-03 -1.1977509e-01\n",
            "  1.7421754e-01  1.4019932e-01 -2.9934248e-01 -6.6187344e-02\n",
            "  1.8411554e-01  2.0666616e-02  2.7302870e-01  1.5087597e-01\n",
            "  2.5431341e-01  8.9834206e-02  4.7755543e-02  2.3600295e-01\n",
            "  8.8316053e-02 -1.7305876e-01  4.8124950e-02 -4.1968390e-02\n",
            "  2.1715337e-01 -1.3570005e-01]\n",
            "-----------------------------------------------------\n",
            "Dimensions of training set = (300, 4096) and Test Set = (100, 4096)\n"
          ]
        }
      ]
    },
    {
      "cell_type": "code",
      "source": [
        "print(\"Fitting the classifier to the training set\")\n",
        "\n",
        "param_grid = {'C': [1e3, 5e3, 1e4, 5e4, 1e5], 'gamma': [0.0001, 0.0005, 0.001, 0.005, 0.01, 0.1], }\n",
        "clf = GridSearchCV(SVC(kernel ='rbf', class_weight ='balanced'), param_grid)\n",
        "clf = clf.fit(X_train_pca, y_train)\n",
        "print(\"Best estimator found by grid search:\")\n",
        "print(clf.best_estimator_)\n",
        " \n",
        "print(\"Predicting people's names on the test set\")\n",
        "t0 = time.time()\n",
        "y_pred = clf.predict(X_test_pca)\n",
        "print(\"done in % 0.3fs\" % (time.time() - t0))\n",
        "# print classification results\n",
        "print(classification_report(y_test, y_pred))\n"
      ],
      "metadata": {
        "id": "k4mZyGVtJ-XD",
        "colab": {
          "base_uri": "https://localhost:8080/"
        },
        "outputId": "dfe17aad-8045-48cf-d4f0-0df1117bea09"
      },
      "execution_count": null,
      "outputs": [
        {
          "output_type": "stream",
          "name": "stdout",
          "text": [
            "Fitting the classifier to the training set\n"
          ]
        },
        {
          "output_type": "stream",
          "name": "stderr",
          "text": [
            "/usr/local/lib/python3.7/dist-packages/sklearn/model_selection/_split.py:680: UserWarning: The least populated class in y has only 3 members, which is less than n_splits=5.\n",
            "  UserWarning,\n"
          ]
        },
        {
          "output_type": "stream",
          "name": "stdout",
          "text": [
            "Best estimator found by grid search:\n",
            "SVC(C=1000.0, class_weight='balanced', gamma=0.0001)\n",
            "Predicting people's names on the test set\n",
            "done in  0.010s\n",
            "              precision    recall  f1-score   support\n",
            "\n",
            "           0       1.00      0.50      0.67         4\n",
            "           1       1.00      1.00      1.00         2\n",
            "           2       1.00      1.00      1.00         2\n",
            "           3       1.00      1.00      1.00         4\n",
            "           4       1.00      1.00      1.00         3\n",
            "           5       1.00      1.00      1.00         3\n",
            "           6       1.00      1.00      1.00         1\n",
            "           7       1.00      0.86      0.92         7\n",
            "           8       1.00      1.00      1.00         2\n",
            "           9       1.00      1.00      1.00         3\n",
            "          10       1.00      1.00      1.00         3\n",
            "          11       1.00      1.00      1.00         4\n",
            "          12       1.00      1.00      1.00         2\n",
            "          13       1.00      1.00      1.00         1\n",
            "          14       1.00      1.00      1.00         3\n",
            "          15       1.00      1.00      1.00         2\n",
            "          17       0.75      1.00      0.86         3\n",
            "          18       1.00      1.00      1.00         2\n",
            "          19       1.00      1.00      1.00         1\n",
            "          20       1.00      1.00      1.00         2\n",
            "          21       1.00      1.00      1.00         1\n",
            "          22       1.00      1.00      1.00         4\n",
            "          23       1.00      1.00      1.00         4\n",
            "          24       1.00      1.00      1.00         2\n",
            "          25       1.00      1.00      1.00         2\n",
            "          26       1.00      1.00      1.00         4\n",
            "          27       1.00      1.00      1.00         3\n",
            "          28       1.00      1.00      1.00         2\n",
            "          29       1.00      1.00      1.00         1\n",
            "          30       1.00      1.00      1.00         1\n",
            "          31       1.00      1.00      1.00         1\n",
            "          32       1.00      1.00      1.00         3\n",
            "          33       1.00      1.00      1.00         2\n",
            "          34       0.50      1.00      0.67         1\n",
            "          35       1.00      1.00      1.00         1\n",
            "          36       1.00      1.00      1.00         2\n",
            "          37       1.00      1.00      1.00         3\n",
            "          38       1.00      1.00      1.00         5\n",
            "          39       0.80      1.00      0.89         4\n",
            "\n",
            "    accuracy                           0.97       100\n",
            "   macro avg       0.98      0.98      0.97       100\n",
            "weighted avg       0.98      0.97      0.97       100\n",
            "\n"
          ]
        }
      ]
    },
    {
      "cell_type": "markdown",
      "source": [
        "LDA"
      ],
      "metadata": {
        "id": "zsZoycO2Qoqx"
      }
    },
    {
      "cell_type": "code",
      "source": [
        "from sklearn.discriminant_analysis import LinearDiscriminantAnalysis\n",
        "n_components = 150\n",
        "t0 = time.time()\n",
        "lda = LinearDiscriminantAnalysis().fit(X_train,y_train)\n",
        " \n",
        "#eigenfaces = pca.components_.reshape((n_components, h, w))\n",
        " \n",
        "X_train_lda = lda.transform(X_train)\n",
        "X_test_lda = lda.transform(X_test)\n",
        "print(\"done in % 0.3fs\" % (time.time() - t0))"
      ],
      "metadata": {
        "id": "pneDUGTOQpsH",
        "colab": {
          "base_uri": "https://localhost:8080/"
        },
        "outputId": "388cb944-68dc-431f-c1e4-917eeb0b3179"
      },
      "execution_count": null,
      "outputs": [
        {
          "output_type": "stream",
          "name": "stdout",
          "text": [
            "done in  0.534s\n"
          ]
        }
      ]
    },
    {
      "cell_type": "code",
      "source": [
        "print(\"Sample Data point after applying PCA\\n\", X_train_lda[0])\n",
        "print(\"-----------------------------------------------------\")\n",
        "print(\"Dimensions of training set = % s and Test Set = % s\"%(\n",
        "        X_train.shape, X_test.shape))"
      ],
      "metadata": {
        "colab": {
          "base_uri": "https://localhost:8080/"
        },
        "id": "klPPDISeQvEi",
        "outputId": "a478f15f-fd4b-4c3a-f224-a608da7e5adc"
      },
      "execution_count": null,
      "outputs": [
        {
          "output_type": "stream",
          "name": "stdout",
          "text": [
            "Sample Data point after applying PCA\n",
            " [ 6.27391968  0.35939903 -3.17492692  2.42980618 -0.36221616  0.45760319\n",
            " -0.96499823  1.6948721  -0.36765641 -3.11354212  0.93546147  0.29667266\n",
            "  6.23040073 -0.27387318  0.51508694 -0.82362963  2.52132724  0.81617149\n",
            "  0.92812117  7.12426924  2.33407947 -3.2896281   0.32180777 -0.17750356\n",
            "  0.59911011 -1.21534004  2.98662163 -4.19007495 -0.49803416 -1.52232799\n",
            " -2.0583664  -0.68788364  0.22993702  2.73760462 -0.45790701  1.52190489\n",
            "  0.26188413 -0.84734004  0.54325775]\n",
            "-----------------------------------------------------\n",
            "Dimensions of training set = (300, 4096) and Test Set = (100, 4096)\n"
          ]
        }
      ]
    },
    {
      "cell_type": "code",
      "source": [
        "print(\"Fitting the classifier to the training set\")\n",
        "\n",
        "param_grid = {'C': [1e3, 5e3, 1e4, 5e4, 1e5],\n",
        "              'gamma': [0.0001, 0.0005, 0.001, 0.005, 0.01, 0.1], }\n",
        "clf = GridSearchCV(\n",
        "    SVC(kernel ='rbf', class_weight ='balanced'), param_grid\n",
        ")\n",
        "clf = clf.fit(X_train_lda, y_train)\n",
        "print(\"Best estimator found by grid search:\")\n",
        "print(clf.best_estimator_)\n",
        " \n",
        "print(\"Predicting people's names on the test set\")\n",
        "t0 = time.time()\n",
        "y_pred = clf.predict(X_test_lda)\n",
        "print(\"done in % 0.3fs\" % (time.time() - t0))\n",
        "# print classification results\n",
        "print(classification_report(y_test, y_pred))"
      ],
      "metadata": {
        "colab": {
          "base_uri": "https://localhost:8080/"
        },
        "id": "nanrrJZNQ9Fx",
        "outputId": "d338ac54-a27c-45ce-881a-39382ba124fd"
      },
      "execution_count": null,
      "outputs": [
        {
          "output_type": "stream",
          "name": "stdout",
          "text": [
            "Fitting the classifier to the training set\n"
          ]
        },
        {
          "output_type": "stream",
          "name": "stderr",
          "text": [
            "/usr/local/lib/python3.7/dist-packages/sklearn/model_selection/_split.py:680: UserWarning: The least populated class in y has only 3 members, which is less than n_splits=5.\n",
            "  UserWarning,\n"
          ]
        },
        {
          "output_type": "stream",
          "name": "stdout",
          "text": [
            "Best estimator found by grid search:\n",
            "SVC(C=1000.0, class_weight='balanced', gamma=0.0001)\n",
            "Predicting people's names on the test set\n",
            "done in  0.005s\n",
            "              precision    recall  f1-score   support\n",
            "\n",
            "           0       1.00      0.75      0.86         4\n",
            "           1       1.00      1.00      1.00         2\n",
            "           2       1.00      1.00      1.00         2\n",
            "           3       1.00      1.00      1.00         4\n",
            "           4       1.00      1.00      1.00         3\n",
            "           5       1.00      1.00      1.00         3\n",
            "           6       1.00      1.00      1.00         1\n",
            "           7       1.00      0.86      0.92         7\n",
            "           8       1.00      1.00      1.00         2\n",
            "           9       1.00      1.00      1.00         3\n",
            "          10       1.00      1.00      1.00         3\n",
            "          11       1.00      1.00      1.00         4\n",
            "          12       1.00      1.00      1.00         2\n",
            "          13       1.00      1.00      1.00         1\n",
            "          14       1.00      1.00      1.00         3\n",
            "          15       1.00      1.00      1.00         2\n",
            "          17       1.00      1.00      1.00         3\n",
            "          18       1.00      1.00      1.00         2\n",
            "          19       1.00      1.00      1.00         1\n",
            "          20       1.00      1.00      1.00         2\n",
            "          21       1.00      1.00      1.00         1\n",
            "          22       1.00      1.00      1.00         4\n",
            "          23       1.00      1.00      1.00         4\n",
            "          24       1.00      1.00      1.00         2\n",
            "          25       1.00      1.00      1.00         2\n",
            "          26       1.00      1.00      1.00         4\n",
            "          27       1.00      1.00      1.00         3\n",
            "          28       1.00      1.00      1.00         2\n",
            "          29       1.00      1.00      1.00         1\n",
            "          30       1.00      1.00      1.00         1\n",
            "          31       1.00      1.00      1.00         1\n",
            "          32       1.00      1.00      1.00         3\n",
            "          33       1.00      1.00      1.00         2\n",
            "          34       1.00      1.00      1.00         1\n",
            "          35       1.00      1.00      1.00         1\n",
            "          36       1.00      1.00      1.00         2\n",
            "          37       1.00      1.00      1.00         3\n",
            "          38       1.00      1.00      1.00         5\n",
            "          39       0.67      1.00      0.80         4\n",
            "\n",
            "    accuracy                           0.98       100\n",
            "   macro avg       0.99      0.99      0.99       100\n",
            "weighted avg       0.99      0.98      0.98       100\n",
            "\n"
          ]
        }
      ]
    },
    {
      "cell_type": "code",
      "source": [],
      "metadata": {
        "id": "LdHg1ro7cejY"
      },
      "execution_count": null,
      "outputs": []
    }
  ]
}